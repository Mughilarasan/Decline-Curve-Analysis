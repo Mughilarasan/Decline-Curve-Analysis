{
 "cells": [
  {
   "cell_type": "code",
   "execution_count": 1,
   "id": "1c3e12b4-77e0-4fea-8349-213661349c61",
   "metadata": {},
   "outputs": [],
   "source": [
    "import pandas as pd\n",
    "import numpy as np\n",
    "import matplotlib.pyplot as plt\n",
    "%matplotlib inline"
   ]
  },
  {
   "cell_type": "code",
   "execution_count": 1,
   "id": "d5dc6df6-56a9-4c9b-b869-a19b541bf7b0",
   "metadata": {},
   "outputs": [
    {
     "ename": "NameError",
     "evalue": "name 'pd' is not defined",
     "output_type": "error",
     "traceback": [
      "\u001b[1;31m---------------------------------------------------------------------------\u001b[0m",
      "\u001b[1;31mNameError\u001b[0m                                 Traceback (most recent call last)",
      "Cell \u001b[1;32mIn[1], line 1\u001b[0m\n\u001b[1;32m----> 1\u001b[0m a\u001b[38;5;241m=\u001b[39mpd\u001b[38;5;241m.\u001b[39mread_excel(\u001b[38;5;124m\"\u001b[39m\u001b[38;5;124mVolve production data new.xlsx\u001b[39m\u001b[38;5;124m\"\u001b[39m,sheet_name\u001b[38;5;241m=\u001b[39m\u001b[38;5;241m2\u001b[39m,dtype\u001b[38;5;241m=\u001b[39m\u001b[38;5;28mint\u001b[39m)\n",
      "\u001b[1;31mNameError\u001b[0m: name 'pd' is not defined"
     ]
    }
   ],
   "source": [
    "a=pd.read_excel(\"DCA with volve data.xlsx\",sheet_name=7,dtype=int)"
   ]
  },
  {
   "cell_type": "code",
   "execution_count": 3,
   "id": "e059987e-4d29-4f8d-9b60-3bfd7781a04a",
   "metadata": {},
   "outputs": [
    {
     "name": "stdout",
     "output_type": "stream",
     "text": [
      "0.05019998483738393\n",
      "Equation: y = 72059.23 * exp(-0.05020 * x)\n"
     ]
    }
   ],
   "source": [
    "# Assuming you have x and y data (replace with  actual data)\n",
    "x =a['months']\n",
    "y = a['Actual']\n",
    "\n",
    "\n",
    "# Fit an exponential model (y = a * exp(b * x))\n",
    "p = np.polyfit(x, np.log(y), 1)\n",
    "A, B = np.exp(p[1]), p[0]\n",
    "print(abs(B))\n",
    "print(f\"Equation: y = {A:.2f} * exp({B:.5f} * x)\")"
   ]
  },
  {
   "cell_type": "code",
   "execution_count": 4,
   "id": "69267de0-4b29-4590-934b-79a2b17bce15",
   "metadata": {},
   "outputs": [
    {
     "name": "stdout",
     "output_type": "stream",
     "text": [
      "0.05019998483738393\n",
      "Equation: y = 72059.23 * exp(-0.05020 * x)\n"
     ]
    }
   ],
   "source": [
    "# Assuming you have x and y data (replace with  actual data)\n",
    "x =a['months']\n",
    "y = a['Actual']\n",
    "\n",
    "\n",
    "# Fit an exponential model (y = a * exp(b * x))\n",
    "p = np.polyfit(x, np.log(y), 1)\n",
    "A, B = np.exp(p[1]), p[0]\n",
    "print(abs(B))\n",
    "print(f\"Equation: y = {A:.2f} * exp({B:.5f} * x)\")\n",
    "\n",
    "#Inserting Coloumns in Data \n",
    "a[\"HOP initial\"]=y\n",
    "a.loc[26:,'HOP initial']=np.nan\n",
    "a[\"HOP final\"]=y\n",
    "a.loc[0:24:,'HOP final']=np.nan\n",
    "\n",
    "#Decline Rate\n",
    "Di=abs(B)\n",
    "Di1=0.06016\n",
    "Di2=0.12783\n",
    "Di3=0.29488\n",
    "\n",
    "b=a.iloc[0:,0:1]-1\n",
    "c=b['months']\n",
    "d1=c*Di1\n",
    "d2=c*Di2\n",
    "d3=c*Di3\n",
    "\n",
    "#exponential\n",
    "EXP=(101571)*np.exp(-d1)\n",
    "#hyperbolic\n",
    "HYP=(101571)/(1+(0.5*d2))**(1/0.5)\n",
    "#harmonic\n",
    "HAR=(101571)/(1+d3)\n",
    "\n",
    "#Inserting Coloumns in Data\n",
    "a[\"Exponential\"]=EXP\n",
    "a[\"Hyperbolic\"]=HYP\n",
    "a[\"Harmonic\"]=HAR\n",
    "\n",
    "#error\n",
    "e1=abs(((y-EXP)/y)*100)\n",
    "e2=abs(((y-HYP)/y)*100)\n",
    "e3=abs(((y-HAR)/y)*100)\n",
    "f=e1.sum()\n",
    "g=e2.sum()\n",
    "h=e3.sum()\n",
    "\n",
    "#Inserting Coloumns in Data\n",
    "a[\"ERROR EXP\"]=e1\n",
    "a[\"sum 1\"]=f\n",
    "a.loc[1:,'sum 1']=np.nan\n",
    "a[\"ERROR HYP\"]=e2\n",
    "a[\"sum 2\"]=g\n",
    "a.loc[1:,'sum 2']=np.nan\n",
    "a[\"ERROR HAR\"]=e3\n",
    "a[\"sum 3\"]=h\n",
    "a.loc[1:,'sum 3']=np.nan\n",
    "\n",
    "#Inserting Coloumns in Data\n",
    "a[\"EXP predicted\"]=EXP\n",
    "a.loc[0:24,'EXP predicted']=np.nan\n",
    "a[\"HYP predicted\"]=HYP\n",
    "a.loc[0:24,'HYP predicted']=np.nan\n",
    "a[\"HAR predicted\"]=HAR\n",
    "a.loc[0:24,'HAR predicted']=np.nan\n"
   ]
  },
  {
   "cell_type": "code",
   "execution_count": 5,
   "id": "465cbd42-2a5c-478a-8970-ccab164ccc84",
   "metadata": {},
   "outputs": [
    {
     "data": {
      "text/html": [
       "<div>\n",
       "<style scoped>\n",
       "    .dataframe tbody tr th:only-of-type {\n",
       "        vertical-align: middle;\n",
       "    }\n",
       "\n",
       "    .dataframe tbody tr th {\n",
       "        vertical-align: top;\n",
       "    }\n",
       "\n",
       "    .dataframe thead th {\n",
       "        text-align: right;\n",
       "    }\n",
       "</style>\n",
       "<table border=\"1\" class=\"dataframe\">\n",
       "  <thead>\n",
       "    <tr style=\"text-align: right;\">\n",
       "      <th></th>\n",
       "      <th>months</th>\n",
       "      <th>Actual</th>\n",
       "      <th>HOP initial</th>\n",
       "      <th>HOP final</th>\n",
       "      <th>Exponential</th>\n",
       "      <th>Hyperbolic</th>\n",
       "      <th>Harmonic</th>\n",
       "      <th>ERROR EXP</th>\n",
       "      <th>sum 1</th>\n",
       "      <th>ERROR HYP</th>\n",
       "      <th>sum 2</th>\n",
       "      <th>ERROR HAR</th>\n",
       "      <th>sum 3</th>\n",
       "      <th>EXP predicted</th>\n",
       "      <th>HYP predicted</th>\n",
       "      <th>HAR predicted</th>\n",
       "    </tr>\n",
       "  </thead>\n",
       "  <tbody>\n",
       "    <tr>\n",
       "      <th>0</th>\n",
       "      <td>1</td>\n",
       "      <td>101571</td>\n",
       "      <td>101571.0</td>\n",
       "      <td>NaN</td>\n",
       "      <td>101571.000000</td>\n",
       "      <td>101571.000000</td>\n",
       "      <td>101571.000000</td>\n",
       "      <td>0.000000</td>\n",
       "      <td>1807.508764</td>\n",
       "      <td>0.000000</td>\n",
       "      <td>1366.523217</td>\n",
       "      <td>0.000000</td>\n",
       "      <td>1789.381723</td>\n",
       "      <td>NaN</td>\n",
       "      <td>NaN</td>\n",
       "      <td>NaN</td>\n",
       "    </tr>\n",
       "    <tr>\n",
       "      <th>1</th>\n",
       "      <td>2</td>\n",
       "      <td>86253</td>\n",
       "      <td>86253.0</td>\n",
       "      <td>NaN</td>\n",
       "      <td>95640.661711</td>\n",
       "      <td>89733.759676</td>\n",
       "      <td>78440.473248</td>\n",
       "      <td>10.883867</td>\n",
       "      <td>NaN</td>\n",
       "      <td>4.035523</td>\n",
       "      <td>NaN</td>\n",
       "      <td>9.057687</td>\n",
       "      <td>NaN</td>\n",
       "      <td>NaN</td>\n",
       "      <td>NaN</td>\n",
       "      <td>NaN</td>\n",
       "    </tr>\n",
       "    <tr>\n",
       "      <th>2</th>\n",
       "      <td>3</td>\n",
       "      <td>77113</td>\n",
       "      <td>77113.0</td>\n",
       "      <td>NaN</td>\n",
       "      <td>90056.572963</td>\n",
       "      <td>79851.383148</td>\n",
       "      <td>63890.775966</td>\n",
       "      <td>16.785202</td>\n",
       "      <td>NaN</td>\n",
       "      <td>3.551130</td>\n",
       "      <td>NaN</td>\n",
       "      <td>17.146556</td>\n",
       "      <td>NaN</td>\n",
       "      <td>NaN</td>\n",
       "      <td>NaN</td>\n",
       "      <td>NaN</td>\n",
       "    </tr>\n",
       "    <tr>\n",
       "      <th>3</th>\n",
       "      <td>4</td>\n",
       "      <td>69617</td>\n",
       "      <td>69617.0</td>\n",
       "      <td>NaN</td>\n",
       "      <td>84798.517584</td>\n",
       "      <td>71515.972915</td>\n",
       "      <td>53894.112403</td>\n",
       "      <td>21.807199</td>\n",
       "      <td>NaN</td>\n",
       "      <td>2.727743</td>\n",
       "      <td>NaN</td>\n",
       "      <td>22.584839</td>\n",
       "      <td>NaN</td>\n",
       "      <td>NaN</td>\n",
       "      <td>NaN</td>\n",
       "      <td>NaN</td>\n",
       "    </tr>\n",
       "    <tr>\n",
       "      <th>4</th>\n",
       "      <td>5</td>\n",
       "      <td>64039</td>\n",
       "      <td>64039.0</td>\n",
       "      <td>NaN</td>\n",
       "      <td>79847.459746</td>\n",
       "      <td>64420.725109</td>\n",
       "      <td>46602.462928</td>\n",
       "      <td>24.685676</td>\n",
       "      <td>NaN</td>\n",
       "      <td>0.596082</td>\n",
       "      <td>NaN</td>\n",
       "      <td>27.227997</td>\n",
       "      <td>NaN</td>\n",
       "      <td>NaN</td>\n",
       "      <td>NaN</td>\n",
       "      <td>NaN</td>\n",
       "    </tr>\n",
       "  </tbody>\n",
       "</table>\n",
       "</div>"
      ],
      "text/plain": [
       "   months  Actual  HOP initial  HOP final    Exponential     Hyperbolic  \\\n",
       "0       1  101571     101571.0        NaN  101571.000000  101571.000000   \n",
       "1       2   86253      86253.0        NaN   95640.661711   89733.759676   \n",
       "2       3   77113      77113.0        NaN   90056.572963   79851.383148   \n",
       "3       4   69617      69617.0        NaN   84798.517584   71515.972915   \n",
       "4       5   64039      64039.0        NaN   79847.459746   64420.725109   \n",
       "\n",
       "        Harmonic  ERROR EXP        sum 1  ERROR HYP        sum 2  ERROR HAR  \\\n",
       "0  101571.000000   0.000000  1807.508764   0.000000  1366.523217   0.000000   \n",
       "1   78440.473248  10.883867          NaN   4.035523          NaN   9.057687   \n",
       "2   63890.775966  16.785202          NaN   3.551130          NaN  17.146556   \n",
       "3   53894.112403  21.807199          NaN   2.727743          NaN  22.584839   \n",
       "4   46602.462928  24.685676          NaN   0.596082          NaN  27.227997   \n",
       "\n",
       "         sum 3  EXP predicted  HYP predicted  HAR predicted  \n",
       "0  1789.381723            NaN            NaN            NaN  \n",
       "1          NaN            NaN            NaN            NaN  \n",
       "2          NaN            NaN            NaN            NaN  \n",
       "3          NaN            NaN            NaN            NaN  \n",
       "4          NaN            NaN            NaN            NaN  "
      ]
     },
     "execution_count": 5,
     "metadata": {},
     "output_type": "execute_result"
    }
   ],
   "source": [
    "a.head()"
   ]
  },
  {
   "cell_type": "code",
   "execution_count": 6,
   "id": "802a9a07-44b0-4ab7-920c-fddb0f0d3503",
   "metadata": {},
   "outputs": [
    {
     "data": {
      "text/plain": [
       "<matplotlib.legend.Legend at 0x293c2fc9890>"
      ]
     },
     "execution_count": 6,
     "metadata": {},
     "output_type": "execute_result"
    },
    {
     "data": {
      "image/png": "[encoded data removed]",
      "text/plain": [
       "<Figure size 640x480 with 1 Axes>"
      ]
     },
     "metadata": {},
     "output_type": "display_data"
    }
   ],
   "source": [
    "#Plotting \n",
    "plt.plot(a[\"months\"],a[\"HOP initial\"],color=\"green\")\n",
    "plt.plot(a[\"months\"],a[\"HOP final\"],color=\"darkviolet\")\n",
    "plt.plot(a[\"months\"],a[\"EXP predicted\"],color=\"blue\")\n",
    "plt.plot(a[\"months\"],a[\"HYP predicted\"],color=\"orange\")\n",
    "plt.plot(a[\"months\"],a[\"HAR predicted\"],color=\"yellow\")\n",
    "\n",
    "plt.xlabel('Months')\n",
    "plt.ylabel('Oil production (Sm^3)')\n",
    "plt.title('Decline Curve Analysis of F-12 Well')\n",
    "plt.legend([\"Production\",'History','Exponential','Harmonic','Hyperbolic'], loc='upper right')"
   ]
  },
  {
   "cell_type": "code",
   "execution_count": 7,
   "id": "aa9b4e76-ed4d-4278-9661-bbaec2537501",
   "metadata": {},
   "outputs": [
    {
     "data": {
      "text/plain": [
       "<matplotlib.legend.Legend at 0x293c2f406d0>"
      ]
     },
     "execution_count": 7,
     "metadata": {},
     "output_type": "execute_result"
    },
    {
     "data": {
      "image/png": "[encoded data removed]",
      "text/plain": [
       "<Figure size 640x480 with 1 Axes>"
      ]
     },
     "metadata": {},
     "output_type": "display_data"
    }
   ],
   "source": [
    "#plotting DCA Types\n",
    "plt.plot(a[\"months\"],a[\"Exponential\"],color=\"green\")\n",
    "plt.plot(a[\"months\"],a[\"Hyperbolic\"],color=\"yellow\")\n",
    "plt.plot(a[\"months\"],a[\"Harmonic\"],color=\"Orange\")\n",
    "\n",
    "plt.xlabel('Months')\n",
    "plt.ylabel('Oil production')\n",
    "plt.title('Decline Curve Analysis Types')\n",
    "plt.legend(['Exponential','Harmonic','Hyperbolic'], loc='best')"
   ]
  },
  {
   "cell_type": "code",
   "execution_count": 11,
   "id": "bf370c4a-18af-45f5-b6f8-bd4173a7e65f",
   "metadata": {},
   "outputs": [
    {
     "name": "stdout",
     "output_type": "stream",
     "text": [
      "0.05019998483738393\n",
      "Equation: y = 72059.23 * exp(-0.05020 * x)\n"
     ]
    },
    {
     "ename": "TypeError",
     "evalue": "loop of ufunc does not support argument 0 of type LpAffineExpression which has no callable exp method",
     "output_type": "error",
     "traceback": [
      "\u001b[1;31m---------------------------------------------------------------------------\u001b[0m",
      "\u001b[1;31mAttributeError\u001b[0m                            Traceback (most recent call last)",
      "\u001b[1;31mAttributeError\u001b[0m: 'LpAffineExpression' object has no attribute 'exp'",
      "\nThe above exception was the direct cause of the following exception:\n",
      "\u001b[1;31mTypeError\u001b[0m                                 Traceback (most recent call last)",
      "Cell \u001b[1;32mIn[11], line 47\u001b[0m\n\u001b[0;32m     44\u001b[0m Di3 \u001b[38;5;241m=\u001b[39m pulp\u001b[38;5;241m.\u001b[39mLpVariable(\u001b[38;5;124m'\u001b[39m\u001b[38;5;124mDi3\u001b[39m\u001b[38;5;124m'\u001b[39m, lowBound\u001b[38;5;241m=\u001b[39m\u001b[38;5;241m0\u001b[39m)\n\u001b[0;32m     46\u001b[0m \u001b[38;5;66;03m# Define the objective function (sum of errors)\u001b[39;00m\n\u001b[1;32m---> 47\u001b[0m f, g, h \u001b[38;5;241m=\u001b[39m calculate_errors(Di1, Di2, Di3)\n\u001b[0;32m     48\u001b[0m objective \u001b[38;5;241m=\u001b[39m f \u001b[38;5;241m+\u001b[39m g \u001b[38;5;241m+\u001b[39m h\n\u001b[0;32m     49\u001b[0m problem \u001b[38;5;241m+\u001b[39m\u001b[38;5;241m=\u001b[39m objective, \u001b[38;5;124m\"\u001b[39m\u001b[38;5;124mTotal_Error\u001b[39m\u001b[38;5;124m\"\u001b[39m\n",
      "Cell \u001b[1;32mIn[11], line 26\u001b[0m, in \u001b[0;36mcalculate_errors\u001b[1;34m(Di1, Di2, Di3)\u001b[0m\n\u001b[0;32m     23\u001b[0m d3 \u001b[38;5;241m=\u001b[39m x \u001b[38;5;241m*\u001b[39m Di3\n\u001b[0;32m     25\u001b[0m \u001b[38;5;66;03m# Calculate model predictions\u001b[39;00m\n\u001b[1;32m---> 26\u001b[0m EXP \u001b[38;5;241m=\u001b[39m (\u001b[38;5;241m101571\u001b[39m) \u001b[38;5;241m*\u001b[39m np\u001b[38;5;241m.\u001b[39mexp(\u001b[38;5;241m-\u001b[39md1)\n\u001b[0;32m     27\u001b[0m HYP \u001b[38;5;241m=\u001b[39m (\u001b[38;5;241m101571\u001b[39m) \u001b[38;5;241m/\u001b[39m (\u001b[38;5;241m1\u001b[39m \u001b[38;5;241m+\u001b[39m (\u001b[38;5;241m0.5\u001b[39m \u001b[38;5;241m*\u001b[39m d2))\u001b[38;5;241m*\u001b[39m\u001b[38;5;241m*\u001b[39m(\u001b[38;5;241m1\u001b[39m\u001b[38;5;241m/\u001b[39m\u001b[38;5;241m0.5\u001b[39m)\n\u001b[0;32m     28\u001b[0m HAR \u001b[38;5;241m=\u001b[39m (\u001b[38;5;241m101571\u001b[39m) \u001b[38;5;241m/\u001b[39m (\u001b[38;5;241m1\u001b[39m \u001b[38;5;241m+\u001b[39m d3)\n",
      "File \u001b[1;32mC:\\Program Files\\Anaconda 3\\Lib\\site-packages\\pandas\\core\\generic.py:2102\u001b[0m, in \u001b[0;36mNDFrame.__array_ufunc__\u001b[1;34m(self, ufunc, method, *inputs, **kwargs)\u001b[0m\n\u001b[0;32m   2098\u001b[0m \u001b[38;5;129m@final\u001b[39m\n\u001b[0;32m   2099\u001b[0m \u001b[38;5;28;01mdef\u001b[39;00m \u001b[38;5;21m__array_ufunc__\u001b[39m(\n\u001b[0;32m   2100\u001b[0m     \u001b[38;5;28mself\u001b[39m, ufunc: np\u001b[38;5;241m.\u001b[39mufunc, method: \u001b[38;5;28mstr\u001b[39m, \u001b[38;5;241m*\u001b[39minputs: Any, \u001b[38;5;241m*\u001b[39m\u001b[38;5;241m*\u001b[39mkwargs: Any\n\u001b[0;32m   2101\u001b[0m ):\n\u001b[1;32m-> 2102\u001b[0m     \u001b[38;5;28;01mreturn\u001b[39;00m arraylike\u001b[38;5;241m.\u001b[39marray_ufunc(\u001b[38;5;28mself\u001b[39m, ufunc, method, \u001b[38;5;241m*\u001b[39minputs, \u001b[38;5;241m*\u001b[39m\u001b[38;5;241m*\u001b[39mkwargs)\n",
      "File \u001b[1;32mC:\\Program Files\\Anaconda 3\\Lib\\site-packages\\pandas\\core\\arraylike.py:396\u001b[0m, in \u001b[0;36marray_ufunc\u001b[1;34m(self, ufunc, method, *inputs, **kwargs)\u001b[0m\n\u001b[0;32m    393\u001b[0m \u001b[38;5;28;01melif\u001b[39;00m \u001b[38;5;28mself\u001b[39m\u001b[38;5;241m.\u001b[39mndim \u001b[38;5;241m==\u001b[39m \u001b[38;5;241m1\u001b[39m:\n\u001b[0;32m    394\u001b[0m     \u001b[38;5;66;03m# ufunc(series, ...)\u001b[39;00m\n\u001b[0;32m    395\u001b[0m     inputs \u001b[38;5;241m=\u001b[39m \u001b[38;5;28mtuple\u001b[39m(extract_array(x, extract_numpy\u001b[38;5;241m=\u001b[39m\u001b[38;5;28;01mTrue\u001b[39;00m) \u001b[38;5;28;01mfor\u001b[39;00m x \u001b[38;5;129;01min\u001b[39;00m inputs)\n\u001b[1;32m--> 396\u001b[0m     result \u001b[38;5;241m=\u001b[39m \u001b[38;5;28mgetattr\u001b[39m(ufunc, method)(\u001b[38;5;241m*\u001b[39minputs, \u001b[38;5;241m*\u001b[39m\u001b[38;5;241m*\u001b[39mkwargs)\n\u001b[0;32m    397\u001b[0m \u001b[38;5;28;01melse\u001b[39;00m:\n\u001b[0;32m    398\u001b[0m     \u001b[38;5;66;03m# ufunc(dataframe)\u001b[39;00m\n\u001b[0;32m    399\u001b[0m     \u001b[38;5;28;01mif\u001b[39;00m method \u001b[38;5;241m==\u001b[39m \u001b[38;5;124m\"\u001b[39m\u001b[38;5;124m__call__\u001b[39m\u001b[38;5;124m\"\u001b[39m \u001b[38;5;129;01mand\u001b[39;00m \u001b[38;5;129;01mnot\u001b[39;00m kwargs:\n\u001b[0;32m    400\u001b[0m         \u001b[38;5;66;03m# for np.<ufunc>(..) calls\u001b[39;00m\n\u001b[0;32m    401\u001b[0m         \u001b[38;5;66;03m# kwargs cannot necessarily be handled block-by-block, so only\u001b[39;00m\n\u001b[0;32m    402\u001b[0m         \u001b[38;5;66;03m# take this path if there are no kwargs\u001b[39;00m\n",
      "\u001b[1;31mTypeError\u001b[0m: loop of ufunc does not support argument 0 of type LpAffineExpression which has no callable exp method"
     ]
    }
   ],
   "source": [
    "import numpy as np\n",
    "import pandas as pd\n",
    "import pulp\n",
    "\n",
    "# Assuming you have x and y data (replace with actual data)\n",
    "x = a['months']\n",
    "y = a['Actual']\n",
    "\n",
    "# Fit an exponential model (y = a * exp(b * x))\n",
    "p = np.polyfit(x, np.log(y), 1)\n",
    "A, B = np.exp(p[1]), p[0]\n",
    "print(abs(B))\n",
    "print(f\"Equation: y = {A:.2f} * exp({B:.5f} * x)\")\n",
    "\n",
    "# Define the initial decline rate (B) obtained from the exponential model fit\n",
    "Di = abs(B)\n",
    "\n",
    "# Define the error functions\n",
    "def calculate_errors(Di1, Di2, Di3):\n",
    "    # Decline rates\n",
    "    d1 = x * Di1\n",
    "    d2 = x * Di2\n",
    "    d3 = x * Di3\n",
    "\n",
    "    # Calculate model predictions\n",
    "    EXP = (101571) * np.exp(-d1)\n",
    "    HYP = (101571) / (1 + (0.5 * d2))**(1/0.5)\n",
    "    HAR = (101571) / (1 + d3)\n",
    "\n",
    "    # Calculate errors\n",
    "    e1 = abs(((y - EXP) / y) * 100)\n",
    "    e2 = abs(((y - HYP) / y) * 100)\n",
    "    e3 = abs(((y - HAR) / y) * 100)\n",
    "\n",
    "    # Return the sum of errors for each model\n",
    "    return e1.sum(), e2.sum(), e3.sum()\n",
    "\n",
    "# Create a LP minimization problem\n",
    "problem = pulp.LpProblem(\"Minimize_Errors\", pulp.LpMinimize)\n",
    "\n",
    "# Define decision variables (decline rates)\n",
    "Di1 = pulp.LpVariable('Di1', lowBound=0)\n",
    "Di2 = pulp.LpVariable('Di2', lowBound=0)\n",
    "Di3 = pulp.LpVariable('Di3', lowBound=0)\n",
    "\n",
    "# Define the objective function (sum of errors)\n",
    "f, g, h = calculate_errors(Di1, Di2, Di3)\n",
    "objective = f + g + h\n",
    "problem += objective, \"Total_Error\"\n",
    "\n",
    "# Solve the LP problem\n",
    "problem.solve()\n",
    "\n",
    "# Get the optimal values of Di1, Di2, Di3\n",
    "optimal_Di1 = Di1.varValue\n",
    "optimal_Di2 = Di2.varValue\n",
    "optimal_Di3 = Di3.varValue\n",
    "\n",
    "print(\"Optimal Di1:\", optimal_Di1)\n",
    "print(\"Optimal Di2:\", optimal_Di2)\n",
    "print(\"Optimal Di3:\", optimal_Di3)\n",
    "print(\"Optimal Total Error:\", pulp.value(objective))"
   ]
  },
  {
   "cell_type": "code",
   "execution_count": 14,
   "id": "3eb3ab5f-e8db-4120-9b49-2daa97dee0ab",
   "metadata": {},
   "outputs": [
    {
     "name": "stdout",
     "output_type": "stream",
     "text": [
      "0.05019998483738393\n",
      "Equation: y = 72059.23 * exp(-0.05020 * x)\n"
     ]
    },
    {
     "ename": "TypeError",
     "evalue": "loop of ufunc does not support argument 0 of type LpAffineExpression which has no callable exp method",
     "output_type": "error",
     "traceback": [
      "\u001b[1;31m---------------------------------------------------------------------------\u001b[0m",
      "\u001b[1;31mAttributeError\u001b[0m                            Traceback (most recent call last)",
      "\u001b[1;31mAttributeError\u001b[0m: 'LpAffineExpression' object has no attribute 'exp'",
      "\nThe above exception was the direct cause of the following exception:\n",
      "\u001b[1;31mTypeError\u001b[0m                                 Traceback (most recent call last)",
      "Cell \u001b[1;32mIn[14], line 39\u001b[0m\n\u001b[0;32m     37\u001b[0m d2 \u001b[38;5;241m=\u001b[39m x \u001b[38;5;241m*\u001b[39m Di2_var\n\u001b[0;32m     38\u001b[0m d3 \u001b[38;5;241m=\u001b[39m x \u001b[38;5;241m*\u001b[39m Di3_var\n\u001b[1;32m---> 39\u001b[0m EXP \u001b[38;5;241m=\u001b[39m (\u001b[38;5;241m101571\u001b[39m) \u001b[38;5;241m*\u001b[39m np\u001b[38;5;241m.\u001b[39mexp(\u001b[38;5;241m-\u001b[39md1)\n\u001b[0;32m     40\u001b[0m HYP \u001b[38;5;241m=\u001b[39m (\u001b[38;5;241m101571\u001b[39m) \u001b[38;5;241m/\u001b[39m (\u001b[38;5;241m1\u001b[39m \u001b[38;5;241m+\u001b[39m (\u001b[38;5;241m0.5\u001b[39m \u001b[38;5;241m*\u001b[39m d2))\u001b[38;5;241m*\u001b[39m\u001b[38;5;241m*\u001b[39m(\u001b[38;5;241m1\u001b[39m\u001b[38;5;241m/\u001b[39m\u001b[38;5;241m0.5\u001b[39m)\n\u001b[0;32m     41\u001b[0m HAR \u001b[38;5;241m=\u001b[39m (\u001b[38;5;241m101571\u001b[39m) \u001b[38;5;241m/\u001b[39m (\u001b[38;5;241m1\u001b[39m \u001b[38;5;241m+\u001b[39m d3)\n",
      "File \u001b[1;32mC:\\Program Files\\Anaconda 3\\Lib\\site-packages\\pandas\\core\\generic.py:2102\u001b[0m, in \u001b[0;36mNDFrame.__array_ufunc__\u001b[1;34m(self, ufunc, method, *inputs, **kwargs)\u001b[0m\n\u001b[0;32m   2098\u001b[0m \u001b[38;5;129m@final\u001b[39m\n\u001b[0;32m   2099\u001b[0m \u001b[38;5;28;01mdef\u001b[39;00m \u001b[38;5;21m__array_ufunc__\u001b[39m(\n\u001b[0;32m   2100\u001b[0m     \u001b[38;5;28mself\u001b[39m, ufunc: np\u001b[38;5;241m.\u001b[39mufunc, method: \u001b[38;5;28mstr\u001b[39m, \u001b[38;5;241m*\u001b[39minputs: Any, \u001b[38;5;241m*\u001b[39m\u001b[38;5;241m*\u001b[39mkwargs: Any\n\u001b[0;32m   2101\u001b[0m ):\n\u001b[1;32m-> 2102\u001b[0m     \u001b[38;5;28;01mreturn\u001b[39;00m arraylike\u001b[38;5;241m.\u001b[39marray_ufunc(\u001b[38;5;28mself\u001b[39m, ufunc, method, \u001b[38;5;241m*\u001b[39minputs, \u001b[38;5;241m*\u001b[39m\u001b[38;5;241m*\u001b[39mkwargs)\n",
      "File \u001b[1;32mC:\\Program Files\\Anaconda 3\\Lib\\site-packages\\pandas\\core\\arraylike.py:396\u001b[0m, in \u001b[0;36marray_ufunc\u001b[1;34m(self, ufunc, method, *inputs, **kwargs)\u001b[0m\n\u001b[0;32m    393\u001b[0m \u001b[38;5;28;01melif\u001b[39;00m \u001b[38;5;28mself\u001b[39m\u001b[38;5;241m.\u001b[39mndim \u001b[38;5;241m==\u001b[39m \u001b[38;5;241m1\u001b[39m:\n\u001b[0;32m    394\u001b[0m     \u001b[38;5;66;03m# ufunc(series, ...)\u001b[39;00m\n\u001b[0;32m    395\u001b[0m     inputs \u001b[38;5;241m=\u001b[39m \u001b[38;5;28mtuple\u001b[39m(extract_array(x, extract_numpy\u001b[38;5;241m=\u001b[39m\u001b[38;5;28;01mTrue\u001b[39;00m) \u001b[38;5;28;01mfor\u001b[39;00m x \u001b[38;5;129;01min\u001b[39;00m inputs)\n\u001b[1;32m--> 396\u001b[0m     result \u001b[38;5;241m=\u001b[39m \u001b[38;5;28mgetattr\u001b[39m(ufunc, method)(\u001b[38;5;241m*\u001b[39minputs, \u001b[38;5;241m*\u001b[39m\u001b[38;5;241m*\u001b[39mkwargs)\n\u001b[0;32m    397\u001b[0m \u001b[38;5;28;01melse\u001b[39;00m:\n\u001b[0;32m    398\u001b[0m     \u001b[38;5;66;03m# ufunc(dataframe)\u001b[39;00m\n\u001b[0;32m    399\u001b[0m     \u001b[38;5;28;01mif\u001b[39;00m method \u001b[38;5;241m==\u001b[39m \u001b[38;5;124m\"\u001b[39m\u001b[38;5;124m__call__\u001b[39m\u001b[38;5;124m\"\u001b[39m \u001b[38;5;129;01mand\u001b[39;00m \u001b[38;5;129;01mnot\u001b[39;00m kwargs:\n\u001b[0;32m    400\u001b[0m         \u001b[38;5;66;03m# for np.<ufunc>(..) calls\u001b[39;00m\n\u001b[0;32m    401\u001b[0m         \u001b[38;5;66;03m# kwargs cannot necessarily be handled block-by-block, so only\u001b[39;00m\n\u001b[0;32m    402\u001b[0m         \u001b[38;5;66;03m# take this path if there are no kwargs\u001b[39;00m\n",
      "\u001b[1;31mTypeError\u001b[0m: loop of ufunc does not support argument 0 of type LpAffineExpression which has no callable exp method"
     ]
    }
   ],
   "source": [
    "import numpy as np\n",
    "import pandas as pd\n",
    "import pulp\n",
    "\n",
    "# Assuming you have x and y data (replace with actual data)\n",
    "x = a['months']\n",
    "y = a['Actual']\n",
    "\n",
    "# Fit an exponential model (y = A * exp(B * x))\n",
    "p = np.polyfit(x, np.log(y), 1)\n",
    "A, B = np.exp(p[1]), p[0]\n",
    "print(abs(B))\n",
    "print(f\"Equation: y = {A:.2f} * exp({B:.5f} * x)\")\n",
    "\n",
    "# Inserting Columns in Data\n",
    "a[\"HOP initial\"] = y\n",
    "a.loc[26:, 'HOP initial'] = np.nan\n",
    "a[\"HOP final\"] = y\n",
    "a.loc[0:24, 'HOP final'] = np.nan\n",
    "\n",
    "# Decline Rate\n",
    "Di = abs(B)\n",
    "Di1 = 0.06016\n",
    "Di2 = 0.12783\n",
    "Di3 = 0.29488\n",
    "\n",
    "# Create a PuLP LP minimization problem\n",
    "problem = pulp.LpProblem(\"Minimize_Error\", pulp.LpMinimize)\n",
    "\n",
    "# Define decision variables Di1, Di2, Di3\n",
    "Di1_var = pulp.LpVariable('Di1', lowBound=0)\n",
    "Di2_var = pulp.LpVariable('Di2', lowBound=0)\n",
    "Di3_var = pulp.LpVariable('Di3', lowBound=0)\n",
    "\n",
    "# Calculate model predictions with variable decline rates\n",
    "d1 = x * Di1_var\n",
    "d2 = x * Di2_var\n",
    "d3 = x * Di3_var\n",
    "EXP = (101571) * np.exp(-d1)\n",
    "HYP = (101571) / (1 + (0.5 * d2))**(1/0.5)\n",
    "HAR = (101571) / (1 + d3)\n",
    "\n",
    "# Calculate errors\n",
    "e1 = abs(((y - EXP) / y) * 100)\n",
    "e2 = abs(((y - HYP) / y) * 100)\n",
    "e3 = abs(((y - HAR) / y) * 100)\n",
    "\n",
    "# Define the objective function: minimize the sum of errors\n",
    "problem += e1.sum() + e2.sum() + e3.sum(), \"Total_Error\"\n",
    "\n",
    "# Solve the LP problem\n",
    "problem.solve()\n",
    "\n",
    "# Print the optimized values of Di1, Di2, Di3\n",
    "print(\"Optimal Di1:\", Di1_var.value())\n",
    "print(\"Optimal Di2:\", Di2_var.value())\n",
    "print(\"Optimal Di3:\", Di3_var.value())"
   ]
  },
  {
   "cell_type": "code",
   "execution_count": 3,
   "id": "7ad96880-11ca-4979-ab42-0c209d844288",
   "metadata": {},
   "outputs": [
    {
     "name": "stdout",
     "output_type": "stream",
     "text": [
      "0.05019998483738393\n",
      "Equation: y = 72059.23 * exp(-0.05020 * x)\n",
      "Optimal Di1: 0.05902457520522465\n",
      "Optimal Di2: 0.12261601910341352\n",
      "Optimal Di3: 0.28875886332223566\n"
     ]
    }
   ],
   "source": [
    "import numpy as np\n",
    "import pandas as pd\n",
    "from scipy.optimize import minimize\n",
    "\n",
    "# Assuming you have x and y data (replace with actual data)\n",
    "x = a['months']\n",
    "y = a['Actual']\n",
    "\n",
    "# Fit an exponential model (y = A * exp(B * x))\n",
    "p = np.polyfit(x, np.log(y), 1)\n",
    "A, B = np.exp(p[1]), p[0]\n",
    "print(abs(B))\n",
    "print(f\"Equation: y = {A:.2f} * exp({B:.5f} * x)\")\n",
    "\n",
    "# Inserting Columns in Data\n",
    "a[\"HOP initial\"] = y\n",
    "a.loc[26:, 'HOP initial'] = np.nan\n",
    "a[\"HOP final\"] = y\n",
    "a.loc[0:24, 'HOP final'] = np.nan\n",
    "\n",
    "# Define error functions for each model\n",
    "def exponential_error(params):\n",
    "    Di1 = params[0]\n",
    "    d1 = x * Di1\n",
    "    EXP = (101571) * np.exp(-d1)\n",
    "    return np.sum(abs((y - EXP) / y) * 100)\n",
    "\n",
    "def hyperbolic_error(params):\n",
    "    Di2 = params[0]\n",
    "    d2 = x * Di2\n",
    "    HYP = (101571) / (1 + (0.5 * d2))**(1/0.5)\n",
    "    return np.sum(abs((y - HYP) / y) * 100)\n",
    "\n",
    "def harmonic_error(params):\n",
    "    Di3 = params[0]\n",
    "    d3 = x * Di3\n",
    "    HAR = (101571) / (1 + d3)\n",
    "    return np.sum(abs((y - HAR) / y) * 100)\n",
    "\n",
    "# Define total error function to minimize\n",
    "def total_error(params):\n",
    "    Di1, Di2, Di3 = params\n",
    "    return exponential_error([Di1]) + hyperbolic_error([Di2]) + harmonic_error([Di3])\n",
    "\n",
    "# Initial guess for parameters Di1, Di2, Di3\n",
    "initial_guess = [0.1, 0.2, 0.3]  # Adjust initial values as needed\n",
    "\n",
    "# Minimize the total error using scipy.optimize.minimize\n",
    "result = minimize(total_error, initial_guess, method='Nelder-Mead')\n",
    "\n",
    "# Extract optimized values of Di1, Di2, Di3\n",
    "Di1_opt, Di2_opt, Di3_opt = result.x\n",
    "\n",
    "# Print the optimized values\n",
    "print(\"Optimal Di1:\", Di1_opt)\n",
    "print(\"Optimal Di2:\", Di2_opt)\n",
    "print(\"Optimal Di3:\", Di3_opt)"
   ]
  },
  {
   "cell_type": "code",
   "execution_count": 10,
   "id": "9cf752b1-bed2-454e-8479-dafc310d56cd",
   "metadata": {},
   "outputs": [
    {
     "ename": "NameError",
     "evalue": "name 'Di2' is not defined",
     "output_type": "error",
     "traceback": [
      "\u001b[1;31m---------------------------------------------------------------------------\u001b[0m",
      "\u001b[1;31mNameError\u001b[0m                                 Traceback (most recent call last)",
      "Cell \u001b[1;32mIn[10], line 2\u001b[0m\n\u001b[0;32m      1\u001b[0m Di3\u001b[38;5;241m==\u001b[39mDi3_opt\n\u001b[1;32m----> 2\u001b[0m Di2\n",
      "\u001b[1;31mNameError\u001b[0m: name 'Di2' is not defined"
     ]
    }
   ],
   "source": []
  },
  {
   "cell_type": "code",
   "execution_count": null,
   "id": "1f26e4d7-4f25-4e24-8c3a-04f6f4fc594f",
   "metadata": {},
   "outputs": [],
   "source": []
  }
 ],
 "metadata": {
  "kernelspec": {
   "display_name": "Python 3 (ipykernel)",
   "language": "python",
   "name": "python3"
  },
  "language_info": {
   "codemirror_mode": {
    "name": "ipython",
    "version": 3
   },
   "file_extension": ".py",
   "mimetype": "text/x-python",
   "name": "python",
   "nbconvert_exporter": "python",
   "pygments_lexer": "ipython3",
   "version": "3.11.7"
  }
 },
 "nbformat": 4,
 "nbformat_minor": 5
}
